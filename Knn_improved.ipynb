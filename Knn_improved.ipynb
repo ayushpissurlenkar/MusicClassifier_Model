{
 "cells": [
  {
   "cell_type": "markdown",
   "id": "f4ed5313",
   "metadata": {},
   "source": [
    "# Creating a KNN Model"
   ]
  },
  {
   "cell_type": "markdown",
   "id": "00a4c8e3",
   "metadata": {},
   "source": [
    "## Imports"
   ]
  },
  {
   "cell_type": "code",
   "execution_count": 1,
   "id": "e02efc4f",
   "metadata": {},
   "outputs": [],
   "source": [
    "import pandas as pd\n",
    "import numpy as np\n",
    "import seaborn as sns\n",
    "import matplotlib.pyplot as plt\n",
    "import sklearn \n",
    "import librosa\n",
    "import librosa.display\n",
    "from sklearn.model_selection import train_test_split\n",
    "import scipy.io as sio\n",
    "import numpy as np\n",
    "import matplotlib.pyplot as plt\n",
    "import seaborn as sns\n",
    "from sklearn.svm import SVC\n",
    "from sklearn import svm\n",
    "from sklearn.metrics import accuracy_score \n",
    "from matplotlib.pyplot import figure\n",
    "from sklearn import metrics\n",
    "from sklearn.neighbors import KNeighborsClassifier\n",
    "from sklearn.model_selection import GridSearchCV\n",
    "from sklearn.model_selection import cross_val_score\n",
    "from sklearn.preprocessing import StandardScaler\n",
    "from sklearn.preprocessing import MinMaxScaler\n",
    "import sklearn.preprocessing as skp"
   ]
  },
  {
   "cell_type": "markdown",
   "id": "6cacb798",
   "metadata": {},
   "source": [
    "## Cleaning the dataset"
   ]
  },
  {
   "cell_type": "code",
   "execution_count": 2,
   "id": "6685dda5",
   "metadata": {},
   "outputs": [],
   "source": [
    "df = pd.read_csv('features_3_sec.csv')"
   ]
  },
  {
   "cell_type": "code",
   "execution_count": 3,
   "id": "7a0218b2",
   "metadata": {},
   "outputs": [],
   "source": [
    "df.drop('filename', inplace=True, axis=1)\n",
    "df.drop('length', inplace=True, axis=1)"
   ]
  },
  {
   "cell_type": "code",
   "execution_count": 4,
   "id": "5770433a",
   "metadata": {},
   "outputs": [
    {
     "data": {
      "text/html": [
       "<div>\n",
       "<style scoped>\n",
       "    .dataframe tbody tr th:only-of-type {\n",
       "        vertical-align: middle;\n",
       "    }\n",
       "\n",
       "    .dataframe tbody tr th {\n",
       "        vertical-align: top;\n",
       "    }\n",
       "\n",
       "    .dataframe thead th {\n",
       "        text-align: right;\n",
       "    }\n",
       "</style>\n",
       "<table border=\"1\" class=\"dataframe\">\n",
       "  <thead>\n",
       "    <tr style=\"text-align: right;\">\n",
       "      <th></th>\n",
       "      <th>chroma_stft_mean</th>\n",
       "      <th>chroma_stft_var</th>\n",
       "      <th>rms_mean</th>\n",
       "      <th>rms_var</th>\n",
       "      <th>spectral_centroid_mean</th>\n",
       "      <th>spectral_centroid_var</th>\n",
       "      <th>spectral_bandwidth_mean</th>\n",
       "      <th>spectral_bandwidth_var</th>\n",
       "      <th>rolloff_mean</th>\n",
       "      <th>rolloff_var</th>\n",
       "      <th>...</th>\n",
       "      <th>mfcc16_var</th>\n",
       "      <th>mfcc17_mean</th>\n",
       "      <th>mfcc17_var</th>\n",
       "      <th>mfcc18_mean</th>\n",
       "      <th>mfcc18_var</th>\n",
       "      <th>mfcc19_mean</th>\n",
       "      <th>mfcc19_var</th>\n",
       "      <th>mfcc20_mean</th>\n",
       "      <th>mfcc20_var</th>\n",
       "      <th>label</th>\n",
       "    </tr>\n",
       "  </thead>\n",
       "  <tbody>\n",
       "    <tr>\n",
       "      <th>0</th>\n",
       "      <td>0.335406</td>\n",
       "      <td>0.091048</td>\n",
       "      <td>0.130405</td>\n",
       "      <td>0.003521</td>\n",
       "      <td>1773.065032</td>\n",
       "      <td>167541.630869</td>\n",
       "      <td>1972.744388</td>\n",
       "      <td>117335.771563</td>\n",
       "      <td>3714.560359</td>\n",
       "      <td>1.080790e+06</td>\n",
       "      <td>...</td>\n",
       "      <td>39.687145</td>\n",
       "      <td>-3.241280</td>\n",
       "      <td>36.488243</td>\n",
       "      <td>0.722209</td>\n",
       "      <td>38.099152</td>\n",
       "      <td>-5.050335</td>\n",
       "      <td>33.618073</td>\n",
       "      <td>-0.243027</td>\n",
       "      <td>43.771767</td>\n",
       "      <td>blues</td>\n",
       "    </tr>\n",
       "    <tr>\n",
       "      <th>1</th>\n",
       "      <td>0.343065</td>\n",
       "      <td>0.086147</td>\n",
       "      <td>0.112699</td>\n",
       "      <td>0.001450</td>\n",
       "      <td>1816.693777</td>\n",
       "      <td>90525.690866</td>\n",
       "      <td>2010.051501</td>\n",
       "      <td>65671.875673</td>\n",
       "      <td>3869.682242</td>\n",
       "      <td>6.722448e+05</td>\n",
       "      <td>...</td>\n",
       "      <td>64.748276</td>\n",
       "      <td>-6.055294</td>\n",
       "      <td>40.677654</td>\n",
       "      <td>0.159015</td>\n",
       "      <td>51.264091</td>\n",
       "      <td>-2.837699</td>\n",
       "      <td>97.030830</td>\n",
       "      <td>5.784063</td>\n",
       "      <td>59.943081</td>\n",
       "      <td>blues</td>\n",
       "    </tr>\n",
       "    <tr>\n",
       "      <th>2</th>\n",
       "      <td>0.346815</td>\n",
       "      <td>0.092243</td>\n",
       "      <td>0.132003</td>\n",
       "      <td>0.004620</td>\n",
       "      <td>1788.539719</td>\n",
       "      <td>111407.437613</td>\n",
       "      <td>2084.565132</td>\n",
       "      <td>75124.921716</td>\n",
       "      <td>3997.639160</td>\n",
       "      <td>7.907127e+05</td>\n",
       "      <td>...</td>\n",
       "      <td>67.336563</td>\n",
       "      <td>-1.768610</td>\n",
       "      <td>28.348579</td>\n",
       "      <td>2.378768</td>\n",
       "      <td>45.717648</td>\n",
       "      <td>-1.938424</td>\n",
       "      <td>53.050835</td>\n",
       "      <td>2.517375</td>\n",
       "      <td>33.105122</td>\n",
       "      <td>blues</td>\n",
       "    </tr>\n",
       "    <tr>\n",
       "      <th>3</th>\n",
       "      <td>0.363639</td>\n",
       "      <td>0.086856</td>\n",
       "      <td>0.132565</td>\n",
       "      <td>0.002448</td>\n",
       "      <td>1655.289045</td>\n",
       "      <td>111952.284517</td>\n",
       "      <td>1960.039988</td>\n",
       "      <td>82913.639269</td>\n",
       "      <td>3568.300218</td>\n",
       "      <td>9.216524e+05</td>\n",
       "      <td>...</td>\n",
       "      <td>47.739452</td>\n",
       "      <td>-3.841155</td>\n",
       "      <td>28.337118</td>\n",
       "      <td>1.218588</td>\n",
       "      <td>34.770935</td>\n",
       "      <td>-3.580352</td>\n",
       "      <td>50.836224</td>\n",
       "      <td>3.630866</td>\n",
       "      <td>32.023678</td>\n",
       "      <td>blues</td>\n",
       "    </tr>\n",
       "    <tr>\n",
       "      <th>4</th>\n",
       "      <td>0.335579</td>\n",
       "      <td>0.088129</td>\n",
       "      <td>0.143289</td>\n",
       "      <td>0.001701</td>\n",
       "      <td>1630.656199</td>\n",
       "      <td>79667.267654</td>\n",
       "      <td>1948.503884</td>\n",
       "      <td>60204.020268</td>\n",
       "      <td>3469.992864</td>\n",
       "      <td>6.102111e+05</td>\n",
       "      <td>...</td>\n",
       "      <td>30.336359</td>\n",
       "      <td>0.664582</td>\n",
       "      <td>45.880913</td>\n",
       "      <td>1.689446</td>\n",
       "      <td>51.363583</td>\n",
       "      <td>-3.392489</td>\n",
       "      <td>26.738789</td>\n",
       "      <td>0.536961</td>\n",
       "      <td>29.146694</td>\n",
       "      <td>blues</td>\n",
       "    </tr>\n",
       "    <tr>\n",
       "      <th>...</th>\n",
       "      <td>...</td>\n",
       "      <td>...</td>\n",
       "      <td>...</td>\n",
       "      <td>...</td>\n",
       "      <td>...</td>\n",
       "      <td>...</td>\n",
       "      <td>...</td>\n",
       "      <td>...</td>\n",
       "      <td>...</td>\n",
       "      <td>...</td>\n",
       "      <td>...</td>\n",
       "      <td>...</td>\n",
       "      <td>...</td>\n",
       "      <td>...</td>\n",
       "      <td>...</td>\n",
       "      <td>...</td>\n",
       "      <td>...</td>\n",
       "      <td>...</td>\n",
       "      <td>...</td>\n",
       "      <td>...</td>\n",
       "      <td>...</td>\n",
       "    </tr>\n",
       "    <tr>\n",
       "      <th>9985</th>\n",
       "      <td>0.349126</td>\n",
       "      <td>0.080515</td>\n",
       "      <td>0.050019</td>\n",
       "      <td>0.000097</td>\n",
       "      <td>1499.083005</td>\n",
       "      <td>164266.886443</td>\n",
       "      <td>1718.707215</td>\n",
       "      <td>85931.574523</td>\n",
       "      <td>3015.559458</td>\n",
       "      <td>8.479527e+05</td>\n",
       "      <td>...</td>\n",
       "      <td>42.485981</td>\n",
       "      <td>-9.094270</td>\n",
       "      <td>38.326839</td>\n",
       "      <td>-4.246976</td>\n",
       "      <td>31.049839</td>\n",
       "      <td>-5.625813</td>\n",
       "      <td>48.804092</td>\n",
       "      <td>1.818823</td>\n",
       "      <td>38.966969</td>\n",
       "      <td>rock</td>\n",
       "    </tr>\n",
       "    <tr>\n",
       "      <th>9986</th>\n",
       "      <td>0.372564</td>\n",
       "      <td>0.082626</td>\n",
       "      <td>0.057897</td>\n",
       "      <td>0.000088</td>\n",
       "      <td>1847.965128</td>\n",
       "      <td>281054.935973</td>\n",
       "      <td>1906.468492</td>\n",
       "      <td>99727.037054</td>\n",
       "      <td>3746.694524</td>\n",
       "      <td>1.170890e+06</td>\n",
       "      <td>...</td>\n",
       "      <td>32.415203</td>\n",
       "      <td>-12.375726</td>\n",
       "      <td>66.418587</td>\n",
       "      <td>-3.081278</td>\n",
       "      <td>54.414265</td>\n",
       "      <td>-11.960546</td>\n",
       "      <td>63.452255</td>\n",
       "      <td>0.428857</td>\n",
       "      <td>18.697033</td>\n",
       "      <td>rock</td>\n",
       "    </tr>\n",
       "    <tr>\n",
       "      <th>9987</th>\n",
       "      <td>0.347481</td>\n",
       "      <td>0.089019</td>\n",
       "      <td>0.052403</td>\n",
       "      <td>0.000701</td>\n",
       "      <td>1346.157659</td>\n",
       "      <td>662956.246325</td>\n",
       "      <td>1561.859087</td>\n",
       "      <td>138762.841945</td>\n",
       "      <td>2442.362154</td>\n",
       "      <td>2.602871e+06</td>\n",
       "      <td>...</td>\n",
       "      <td>78.228149</td>\n",
       "      <td>-2.524483</td>\n",
       "      <td>21.778994</td>\n",
       "      <td>4.809936</td>\n",
       "      <td>25.980829</td>\n",
       "      <td>1.775686</td>\n",
       "      <td>48.582378</td>\n",
       "      <td>-0.299545</td>\n",
       "      <td>41.586990</td>\n",
       "      <td>rock</td>\n",
       "    </tr>\n",
       "    <tr>\n",
       "      <th>9988</th>\n",
       "      <td>0.387527</td>\n",
       "      <td>0.084815</td>\n",
       "      <td>0.066430</td>\n",
       "      <td>0.000320</td>\n",
       "      <td>2084.515327</td>\n",
       "      <td>203891.039161</td>\n",
       "      <td>2018.366254</td>\n",
       "      <td>22860.992562</td>\n",
       "      <td>4313.266226</td>\n",
       "      <td>4.968878e+05</td>\n",
       "      <td>...</td>\n",
       "      <td>28.323744</td>\n",
       "      <td>-5.363541</td>\n",
       "      <td>17.209942</td>\n",
       "      <td>6.462601</td>\n",
       "      <td>21.442928</td>\n",
       "      <td>2.354765</td>\n",
       "      <td>24.843613</td>\n",
       "      <td>0.675824</td>\n",
       "      <td>12.787750</td>\n",
       "      <td>rock</td>\n",
       "    </tr>\n",
       "    <tr>\n",
       "      <th>9989</th>\n",
       "      <td>0.369293</td>\n",
       "      <td>0.086759</td>\n",
       "      <td>0.050524</td>\n",
       "      <td>0.000067</td>\n",
       "      <td>1634.330126</td>\n",
       "      <td>411429.169769</td>\n",
       "      <td>1867.422378</td>\n",
       "      <td>119722.211518</td>\n",
       "      <td>3462.042142</td>\n",
       "      <td>1.517016e+06</td>\n",
       "      <td>...</td>\n",
       "      <td>38.801735</td>\n",
       "      <td>-11.598399</td>\n",
       "      <td>58.983097</td>\n",
       "      <td>-0.178517</td>\n",
       "      <td>55.761299</td>\n",
       "      <td>-6.903252</td>\n",
       "      <td>39.485901</td>\n",
       "      <td>-3.412534</td>\n",
       "      <td>31.727489</td>\n",
       "      <td>rock</td>\n",
       "    </tr>\n",
       "  </tbody>\n",
       "</table>\n",
       "<p>9990 rows × 58 columns</p>\n",
       "</div>"
      ],
      "text/plain": [
       "      chroma_stft_mean  chroma_stft_var  rms_mean   rms_var  \\\n",
       "0             0.335406         0.091048  0.130405  0.003521   \n",
       "1             0.343065         0.086147  0.112699  0.001450   \n",
       "2             0.346815         0.092243  0.132003  0.004620   \n",
       "3             0.363639         0.086856  0.132565  0.002448   \n",
       "4             0.335579         0.088129  0.143289  0.001701   \n",
       "...                ...              ...       ...       ...   \n",
       "9985          0.349126         0.080515  0.050019  0.000097   \n",
       "9986          0.372564         0.082626  0.057897  0.000088   \n",
       "9987          0.347481         0.089019  0.052403  0.000701   \n",
       "9988          0.387527         0.084815  0.066430  0.000320   \n",
       "9989          0.369293         0.086759  0.050524  0.000067   \n",
       "\n",
       "      spectral_centroid_mean  spectral_centroid_var  spectral_bandwidth_mean  \\\n",
       "0                1773.065032          167541.630869              1972.744388   \n",
       "1                1816.693777           90525.690866              2010.051501   \n",
       "2                1788.539719          111407.437613              2084.565132   \n",
       "3                1655.289045          111952.284517              1960.039988   \n",
       "4                1630.656199           79667.267654              1948.503884   \n",
       "...                      ...                    ...                      ...   \n",
       "9985             1499.083005          164266.886443              1718.707215   \n",
       "9986             1847.965128          281054.935973              1906.468492   \n",
       "9987             1346.157659          662956.246325              1561.859087   \n",
       "9988             2084.515327          203891.039161              2018.366254   \n",
       "9989             1634.330126          411429.169769              1867.422378   \n",
       "\n",
       "      spectral_bandwidth_var  rolloff_mean   rolloff_var  ...  mfcc16_var  \\\n",
       "0              117335.771563   3714.560359  1.080790e+06  ...   39.687145   \n",
       "1               65671.875673   3869.682242  6.722448e+05  ...   64.748276   \n",
       "2               75124.921716   3997.639160  7.907127e+05  ...   67.336563   \n",
       "3               82913.639269   3568.300218  9.216524e+05  ...   47.739452   \n",
       "4               60204.020268   3469.992864  6.102111e+05  ...   30.336359   \n",
       "...                      ...           ...           ...  ...         ...   \n",
       "9985            85931.574523   3015.559458  8.479527e+05  ...   42.485981   \n",
       "9986            99727.037054   3746.694524  1.170890e+06  ...   32.415203   \n",
       "9987           138762.841945   2442.362154  2.602871e+06  ...   78.228149   \n",
       "9988            22860.992562   4313.266226  4.968878e+05  ...   28.323744   \n",
       "9989           119722.211518   3462.042142  1.517016e+06  ...   38.801735   \n",
       "\n",
       "      mfcc17_mean  mfcc17_var  mfcc18_mean  mfcc18_var  mfcc19_mean  \\\n",
       "0       -3.241280   36.488243     0.722209   38.099152    -5.050335   \n",
       "1       -6.055294   40.677654     0.159015   51.264091    -2.837699   \n",
       "2       -1.768610   28.348579     2.378768   45.717648    -1.938424   \n",
       "3       -3.841155   28.337118     1.218588   34.770935    -3.580352   \n",
       "4        0.664582   45.880913     1.689446   51.363583    -3.392489   \n",
       "...           ...         ...          ...         ...          ...   \n",
       "9985    -9.094270   38.326839    -4.246976   31.049839    -5.625813   \n",
       "9986   -12.375726   66.418587    -3.081278   54.414265   -11.960546   \n",
       "9987    -2.524483   21.778994     4.809936   25.980829     1.775686   \n",
       "9988    -5.363541   17.209942     6.462601   21.442928     2.354765   \n",
       "9989   -11.598399   58.983097    -0.178517   55.761299    -6.903252   \n",
       "\n",
       "      mfcc19_var  mfcc20_mean  mfcc20_var  label  \n",
       "0      33.618073    -0.243027   43.771767  blues  \n",
       "1      97.030830     5.784063   59.943081  blues  \n",
       "2      53.050835     2.517375   33.105122  blues  \n",
       "3      50.836224     3.630866   32.023678  blues  \n",
       "4      26.738789     0.536961   29.146694  blues  \n",
       "...          ...          ...         ...    ...  \n",
       "9985   48.804092     1.818823   38.966969   rock  \n",
       "9986   63.452255     0.428857   18.697033   rock  \n",
       "9987   48.582378    -0.299545   41.586990   rock  \n",
       "9988   24.843613     0.675824   12.787750   rock  \n",
       "9989   39.485901    -3.412534   31.727489   rock  \n",
       "\n",
       "[9990 rows x 58 columns]"
      ]
     },
     "execution_count": 4,
     "metadata": {},
     "output_type": "execute_result"
    }
   ],
   "source": [
    "df"
   ]
  },
  {
   "cell_type": "markdown",
   "id": "82cd0913",
   "metadata": {},
   "source": [
    "## Allocating X and Y & Splitting the data"
   ]
  },
  {
   "cell_type": "code",
   "execution_count": 5,
   "id": "966e30da",
   "metadata": {},
   "outputs": [],
   "source": [
    "df_y = df[\"label\"]\n",
    "df_x = df.drop(\"label\", axis = 1)"
   ]
  },
  {
   "cell_type": "code",
   "execution_count": 6,
   "id": "d3e00b66",
   "metadata": {},
   "outputs": [],
   "source": [
    "X_train, X_test, y_train, y_test = train_test_split(df_x, df_y, test_size=0.2, random_state=42, stratify=df_y)\n"
   ]
  },
  {
   "cell_type": "markdown",
   "id": "7711b99e",
   "metadata": {},
   "source": [
    "## Standardizing for more efficient classifier"
   ]
  },
  {
   "cell_type": "code",
   "execution_count": 7,
   "id": "1a3649b5",
   "metadata": {},
   "outputs": [],
   "source": [
    "standardizer = StandardScaler()\n",
    "\n",
    "X_train = standardizer.fit_transform(X_train)\n",
    "X_test = standardizer.transform(X_test)"
   ]
  },
  {
   "cell_type": "markdown",
   "id": "27c4467e",
   "metadata": {},
   "source": [
    "## Training a random KNN without hyperparameterizing"
   ]
  },
  {
   "cell_type": "code",
   "execution_count": 8,
   "id": "64b7a38f",
   "metadata": {},
   "outputs": [],
   "source": [
    "knn = KNeighborsClassifier()"
   ]
  },
  {
   "cell_type": "code",
   "execution_count": 9,
   "id": "25a0c52b",
   "metadata": {
    "scrolled": true
   },
   "outputs": [
    {
     "name": "stdout",
     "output_type": "stream",
     "text": [
      "Train Score: 0.9365615615615616\n",
      "Test Score: 0.8773773773773774\n"
     ]
    }
   ],
   "source": [
    "knn.fit(X_train, y_train)\n",
    "print(\"Train Score:\", knn.score(X_train, y_train))\n",
    "print(\"Test Score:\", knn.score(X_test, y_test))"
   ]
  },
  {
   "cell_type": "markdown",
   "id": "0843ba6b",
   "metadata": {},
   "source": [
    "## Grid Search and Hyperparameterizing with Cross Validation"
   ]
  },
  {
   "cell_type": "code",
   "execution_count": 10,
   "id": "e94ecf6d",
   "metadata": {},
   "outputs": [],
   "source": [
    "grid_params = [{'n_neighbors': [3, 5, 10, 15, 20, 25],\n",
    "               'weights': ['uniform', 'distance'],\n",
    "               'metric':['euclidean', 'manhattan'], \n",
    "               'algorithm':['auto', 'ball_tree', 'kd_tree', 'brute']}]"
   ]
  },
  {
   "cell_type": "code",
   "execution_count": 11,
   "id": "306754b5",
   "metadata": {},
   "outputs": [],
   "source": [
    "grid_search = GridSearchCV(KNeighborsClassifier(), grid_params, verbose=2, cv=10, n_jobs=-1)"
   ]
  },
  {
   "cell_type": "code",
   "execution_count": 12,
   "id": "13d42332",
   "metadata": {},
   "outputs": [
    {
     "name": "stdout",
     "output_type": "stream",
     "text": [
      "Fitting 10 folds for each of 96 candidates, totalling 960 fits\n"
     ]
    }
   ],
   "source": [
    "grid_model = grid_search.fit(X_train, y_train)"
   ]
  },
  {
   "cell_type": "markdown",
   "id": "d37b4ec7",
   "metadata": {},
   "source": [
    "## Printing out the best parameters and Creating the best KNN"
   ]
  },
  {
   "cell_type": "code",
   "execution_count": 13,
   "id": "2a260a56",
   "metadata": {},
   "outputs": [
    {
     "data": {
      "text/plain": [
       "{'algorithm': 'auto',\n",
       " 'metric': 'manhattan',\n",
       " 'n_neighbors': 3,\n",
       " 'weights': 'distance'}"
      ]
     },
     "execution_count": 13,
     "metadata": {},
     "output_type": "execute_result"
    }
   ],
   "source": [
    "grid_model.best_params_"
   ]
  },
  {
   "cell_type": "code",
   "execution_count": 14,
   "id": "bed61317",
   "metadata": {},
   "outputs": [
    {
     "data": {
      "text/html": [
       "<style>#sk-container-id-1 {color: black;background-color: white;}#sk-container-id-1 pre{padding: 0;}#sk-container-id-1 div.sk-toggleable {background-color: white;}#sk-container-id-1 label.sk-toggleable__label {cursor: pointer;display: block;width: 100%;margin-bottom: 0;padding: 0.3em;box-sizing: border-box;text-align: center;}#sk-container-id-1 label.sk-toggleable__label-arrow:before {content: \"▸\";float: left;margin-right: 0.25em;color: #696969;}#sk-container-id-1 label.sk-toggleable__label-arrow:hover:before {color: black;}#sk-container-id-1 div.sk-estimator:hover label.sk-toggleable__label-arrow:before {color: black;}#sk-container-id-1 div.sk-toggleable__content {max-height: 0;max-width: 0;overflow: hidden;text-align: left;background-color: #f0f8ff;}#sk-container-id-1 div.sk-toggleable__content pre {margin: 0.2em;color: black;border-radius: 0.25em;background-color: #f0f8ff;}#sk-container-id-1 input.sk-toggleable__control:checked~div.sk-toggleable__content {max-height: 200px;max-width: 100%;overflow: auto;}#sk-container-id-1 input.sk-toggleable__control:checked~label.sk-toggleable__label-arrow:before {content: \"▾\";}#sk-container-id-1 div.sk-estimator input.sk-toggleable__control:checked~label.sk-toggleable__label {background-color: #d4ebff;}#sk-container-id-1 div.sk-label input.sk-toggleable__control:checked~label.sk-toggleable__label {background-color: #d4ebff;}#sk-container-id-1 input.sk-hidden--visually {border: 0;clip: rect(1px 1px 1px 1px);clip: rect(1px, 1px, 1px, 1px);height: 1px;margin: -1px;overflow: hidden;padding: 0;position: absolute;width: 1px;}#sk-container-id-1 div.sk-estimator {font-family: monospace;background-color: #f0f8ff;border: 1px dotted black;border-radius: 0.25em;box-sizing: border-box;margin-bottom: 0.5em;}#sk-container-id-1 div.sk-estimator:hover {background-color: #d4ebff;}#sk-container-id-1 div.sk-parallel-item::after {content: \"\";width: 100%;border-bottom: 1px solid gray;flex-grow: 1;}#sk-container-id-1 div.sk-label:hover label.sk-toggleable__label {background-color: #d4ebff;}#sk-container-id-1 div.sk-serial::before {content: \"\";position: absolute;border-left: 1px solid gray;box-sizing: border-box;top: 0;bottom: 0;left: 50%;z-index: 0;}#sk-container-id-1 div.sk-serial {display: flex;flex-direction: column;align-items: center;background-color: white;padding-right: 0.2em;padding-left: 0.2em;position: relative;}#sk-container-id-1 div.sk-item {position: relative;z-index: 1;}#sk-container-id-1 div.sk-parallel {display: flex;align-items: stretch;justify-content: center;background-color: white;position: relative;}#sk-container-id-1 div.sk-item::before, #sk-container-id-1 div.sk-parallel-item::before {content: \"\";position: absolute;border-left: 1px solid gray;box-sizing: border-box;top: 0;bottom: 0;left: 50%;z-index: -1;}#sk-container-id-1 div.sk-parallel-item {display: flex;flex-direction: column;z-index: 1;position: relative;background-color: white;}#sk-container-id-1 div.sk-parallel-item:first-child::after {align-self: flex-end;width: 50%;}#sk-container-id-1 div.sk-parallel-item:last-child::after {align-self: flex-start;width: 50%;}#sk-container-id-1 div.sk-parallel-item:only-child::after {width: 0;}#sk-container-id-1 div.sk-dashed-wrapped {border: 1px dashed gray;margin: 0 0.4em 0.5em 0.4em;box-sizing: border-box;padding-bottom: 0.4em;background-color: white;}#sk-container-id-1 div.sk-label label {font-family: monospace;font-weight: bold;display: inline-block;line-height: 1.2em;}#sk-container-id-1 div.sk-label-container {text-align: center;}#sk-container-id-1 div.sk-container {/* jupyter's `normalize.less` sets `[hidden] { display: none; }` but bootstrap.min.css set `[hidden] { display: none !important; }` so we also need the `!important` here to be able to override the default hidden behavior on the sphinx rendered scikit-learn.org. See: https://github.com/scikit-learn/scikit-learn/issues/21755 */display: inline-block !important;position: relative;}#sk-container-id-1 div.sk-text-repr-fallback {display: none;}</style><div id=\"sk-container-id-1\" class=\"sk-top-container\"><div class=\"sk-text-repr-fallback\"><pre>KNeighborsClassifier(metric=&#x27;manhattan&#x27;, n_neighbors=3, weights=&#x27;distance&#x27;)</pre><b>In a Jupyter environment, please rerun this cell to show the HTML representation or trust the notebook. <br />On GitHub, the HTML representation is unable to render, please try loading this page with nbviewer.org.</b></div><div class=\"sk-container\" hidden><div class=\"sk-item\"><div class=\"sk-estimator sk-toggleable\"><input class=\"sk-toggleable__control sk-hidden--visually\" id=\"sk-estimator-id-1\" type=\"checkbox\" checked><label for=\"sk-estimator-id-1\" class=\"sk-toggleable__label sk-toggleable__label-arrow\">KNeighborsClassifier</label><div class=\"sk-toggleable__content\"><pre>KNeighborsClassifier(metric=&#x27;manhattan&#x27;, n_neighbors=3, weights=&#x27;distance&#x27;)</pre></div></div></div></div></div>"
      ],
      "text/plain": [
       "KNeighborsClassifier(metric='manhattan', n_neighbors=3, weights='distance')"
      ]
     },
     "execution_count": 14,
     "metadata": {},
     "output_type": "execute_result"
    }
   ],
   "source": [
    "knn_cv = KNeighborsClassifier(n_neighbors = 3, weights = 'distance', metric = 'manhattan', algorithm = 'auto')\n",
    "knn_cv.fit(X_train, y_train)\n"
   ]
  },
  {
   "cell_type": "code",
   "execution_count": 24,
   "id": "68820f62",
   "metadata": {},
   "outputs": [
    {
     "name": "stdout",
     "output_type": "stream",
     "text": [
      "Train Score: 0.998998998998999\n",
      "Test Score: 0.9214214214214215\n"
     ]
    }
   ],
   "source": [
    "y_pred = knn_cv.predict(X_test)\n",
    "print(\"Train Score:\", knn_cv.score(X_train, y_train))\n",
    "print(\"Test Score:\", knn_cv.score(X_test, y_test))"
   ]
  },
  {
   "cell_type": "code",
   "execution_count": null,
   "id": "90ebeb5f",
   "metadata": {},
   "outputs": [],
   "source": []
  },
  {
   "cell_type": "code",
   "execution_count": null,
   "id": "45d73b56",
   "metadata": {},
   "outputs": [],
   "source": []
  }
 ],
 "metadata": {
  "kernelspec": {
   "display_name": "Python 3 (ipykernel)",
   "language": "python",
   "name": "python3"
  },
  "language_info": {
   "codemirror_mode": {
    "name": "ipython",
    "version": 3
   },
   "file_extension": ".py",
   "mimetype": "text/x-python",
   "name": "python",
   "nbconvert_exporter": "python",
   "pygments_lexer": "ipython3",
   "version": "3.10.8"
  }
 },
 "nbformat": 4,
 "nbformat_minor": 5
}
